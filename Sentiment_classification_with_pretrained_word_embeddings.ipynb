{
  "nbformat": 4,
  "nbformat_minor": 0,
  "metadata": {
    "colab": {
      "name": "Sentiment classification with pretrained word embeddings.ipynb",
      "provenance": [],
      "mount_file_id": "1MO2VE_4IG64lwM6v44l7HrtL_AFFAAqT",
      "authorship_tag": "ABX9TyO5a3WE7xDD8M/w3Qgg7hT3",
      "include_colab_link": true
    },
    "kernelspec": {
      "name": "python3",
      "display_name": "Python 3"
    },
    "language_info": {
      "name": "python"
    },
    "accelerator": "GPU"
  },
  "cells": [
    {
      "cell_type": "markdown",
      "metadata": {
        "id": "view-in-github",
        "colab_type": "text"
      },
      "source": [
        "<a href=\"https://colab.research.google.com/github/abyanjan/Pytorch-Deep-Learning/blob/master/Sentiment_classification_with_pretrained_word_embeddings.ipynb\" target=\"_parent\"><img src=\"https://colab.research.google.com/assets/colab-badge.svg\" alt=\"Open In Colab\"/></a>"
      ]
    },
    {
      "cell_type": "markdown",
      "metadata": {
        "id": "JQ4rFupiYzQy"
      },
      "source": [
        "## Twitter Sentiment Classification with Pre-trained Glove word Embeddings\n",
        "\n",
        "Using Recurrent Neural Network - LSTM"
      ]
    },
    {
      "cell_type": "code",
      "metadata": {
        "id": "eCK62H_0YCaQ"
      },
      "source": [
        "!pip install -q spacy"
      ],
      "execution_count": null,
      "outputs": []
    },
    {
      "cell_type": "code",
      "metadata": {
        "id": "6jGOFLh7ZXm6"
      },
      "source": [
        "# downloading english corpus with spacy\n",
        "!python -m spacy download en"
      ],
      "execution_count": null,
      "outputs": []
    },
    {
      "cell_type": "code",
      "metadata": {
        "colab": {
          "base_uri": "https://localhost:8080/"
        },
        "id": "pnmH58xVZglP",
        "outputId": "7890cf94-e6e0-4272-9798-40314da0c487"
      },
      "source": [
        "import spacy\n",
        "print(spacy.__version__)"
      ],
      "execution_count": null,
      "outputs": [
        {
          "output_type": "stream",
          "text": [
            "2.2.4\n"
          ],
          "name": "stdout"
        }
      ]
    },
    {
      "cell_type": "code",
      "metadata": {
        "id": "MP6fegZNhhRk"
      },
      "source": [
        "import torch\n",
        "import torch.nn as nn\n",
        "import torchtext\n",
        "from torchtext import datasets\n",
        "\n",
        "import re\n",
        "import pandas as pd\n",
        "import numpy as np\n",
        "import matplotlib.pyplot as plt\n",
        "import seaborn as sns"
      ],
      "execution_count": null,
      "outputs": []
    },
    {
      "cell_type": "markdown",
      "metadata": {
        "id": "y0qieWV6Zr7b"
      },
      "source": [
        "### Data"
      ]
    },
    {
      "cell_type": "code",
      "metadata": {
        "id": "C0qVrdh3b32O"
      },
      "source": [
        ""
      ],
      "execution_count": null,
      "outputs": []
    },
    {
      "cell_type": "markdown",
      "metadata": {
        "id": "Q9qaE_G5Zt01"
      },
      "source": [
        "The twitter sentiment data is downloaded from http://thinknook.com/twitter-sentiment-analysis-training-corpus-dataset-2012-09-22/\n"
      ]
    },
    {
      "cell_type": "code",
      "metadata": {
        "colab": {
          "base_uri": "https://localhost:8080/"
        },
        "id": "wWX3cFErZp0j",
        "outputId": "a4260e48-ab3a-46ef-9185-6858ad43d53d"
      },
      "source": [
        "data = pd.read_csv('/content/drive/MyDrive/Colab Notebooks/Sentiment Analysis Dataset.csv', error_bad_lines=False)"
      ],
      "execution_count": null,
      "outputs": [
        {
          "output_type": "stream",
          "text": [
            "b'Skipping line 8836: expected 4 fields, saw 5\\n'\n",
            "b'Skipping line 535882: expected 4 fields, saw 7\\n'\n"
          ],
          "name": "stderr"
        }
      ]
    },
    {
      "cell_type": "code",
      "metadata": {
        "colab": {
          "base_uri": "https://localhost:8080/",
          "height": 202
        },
        "id": "8aL0puUDcFLD",
        "outputId": "6b405690-cf6b-49a3-bf60-1a67180e858f"
      },
      "source": [
        "data.head()"
      ],
      "execution_count": null,
      "outputs": [
        {
          "output_type": "execute_result",
          "data": {
            "text/html": [
              "<div>\n",
              "<style scoped>\n",
              "    .dataframe tbody tr th:only-of-type {\n",
              "        vertical-align: middle;\n",
              "    }\n",
              "\n",
              "    .dataframe tbody tr th {\n",
              "        vertical-align: top;\n",
              "    }\n",
              "\n",
              "    .dataframe thead th {\n",
              "        text-align: right;\n",
              "    }\n",
              "</style>\n",
              "<table border=\"1\" class=\"dataframe\">\n",
              "  <thead>\n",
              "    <tr style=\"text-align: right;\">\n",
              "      <th></th>\n",
              "      <th>ItemID</th>\n",
              "      <th>Sentiment</th>\n",
              "      <th>SentimentSource</th>\n",
              "      <th>SentimentText</th>\n",
              "    </tr>\n",
              "  </thead>\n",
              "  <tbody>\n",
              "    <tr>\n",
              "      <th>0</th>\n",
              "      <td>1</td>\n",
              "      <td>0</td>\n",
              "      <td>Sentiment140</td>\n",
              "      <td>is so sad for my APL frie...</td>\n",
              "    </tr>\n",
              "    <tr>\n",
              "      <th>1</th>\n",
              "      <td>2</td>\n",
              "      <td>0</td>\n",
              "      <td>Sentiment140</td>\n",
              "      <td>I missed the New Moon trail...</td>\n",
              "    </tr>\n",
              "    <tr>\n",
              "      <th>2</th>\n",
              "      <td>3</td>\n",
              "      <td>1</td>\n",
              "      <td>Sentiment140</td>\n",
              "      <td>omg its already 7:30 :O</td>\n",
              "    </tr>\n",
              "    <tr>\n",
              "      <th>3</th>\n",
              "      <td>4</td>\n",
              "      <td>0</td>\n",
              "      <td>Sentiment140</td>\n",
              "      <td>.. Omgaga. Im sooo  im gunna CRy. I'...</td>\n",
              "    </tr>\n",
              "    <tr>\n",
              "      <th>4</th>\n",
              "      <td>5</td>\n",
              "      <td>0</td>\n",
              "      <td>Sentiment140</td>\n",
              "      <td>i think mi bf is cheating on me!!!   ...</td>\n",
              "    </tr>\n",
              "  </tbody>\n",
              "</table>\n",
              "</div>"
            ],
            "text/plain": [
              "   ItemID  ...                                      SentimentText\n",
              "0       1  ...                       is so sad for my APL frie...\n",
              "1       2  ...                     I missed the New Moon trail...\n",
              "2       3  ...                            omg its already 7:30 :O\n",
              "3       4  ...            .. Omgaga. Im sooo  im gunna CRy. I'...\n",
              "4       5  ...           i think mi bf is cheating on me!!!   ...\n",
              "\n",
              "[5 rows x 4 columns]"
            ]
          },
          "metadata": {
            "tags": []
          },
          "execution_count": 5
        }
      ]
    },
    {
      "cell_type": "code",
      "metadata": {
        "colab": {
          "base_uri": "https://localhost:8080/"
        },
        "id": "80kksprGcJKR",
        "outputId": "03c5f44f-8355-4b33-d52a-7af6b9493efd"
      },
      "source": [
        "# data size\n",
        "data.shape"
      ],
      "execution_count": null,
      "outputs": [
        {
          "output_type": "execute_result",
          "data": {
            "text/plain": [
              "(1578612, 4)"
            ]
          },
          "metadata": {
            "tags": []
          },
          "execution_count": 6
        }
      ]
    },
    {
      "cell_type": "markdown",
      "metadata": {
        "id": "lIVceqy-eBi8"
      },
      "source": [
        "We will be only working with  a sample of the data for the computational purpose."
      ]
    },
    {
      "cell_type": "code",
      "metadata": {
        "colab": {
          "base_uri": "https://localhost:8080/"
        },
        "id": "wS1uNp8TeKru",
        "outputId": "1e184397-b7af-47d3-9011-517b46097637"
      },
      "source": [
        "# taking random 500000 samples\n",
        "tweets_df = data.sample(n = 500000, replace=False)\n",
        "tweets_df.shape"
      ],
      "execution_count": null,
      "outputs": [
        {
          "output_type": "execute_result",
          "data": {
            "text/plain": [
              "(500000, 4)"
            ]
          },
          "metadata": {
            "tags": []
          },
          "execution_count": 7
        }
      ]
    },
    {
      "cell_type": "code",
      "metadata": {
        "colab": {
          "base_uri": "https://localhost:8080/",
          "height": 202
        },
        "id": "snG54Aw7cMrq",
        "outputId": "b19a186d-df32-4bfb-e61d-1efc4bc1d602"
      },
      "source": [
        "# selecting only the required columns\n",
        "tweets_df = tweets_df.drop(['ItemID', 'SentimentSource'], axis = 1)\n",
        "tweets_df.head()"
      ],
      "execution_count": null,
      "outputs": [
        {
          "output_type": "execute_result",
          "data": {
            "text/html": [
              "<div>\n",
              "<style scoped>\n",
              "    .dataframe tbody tr th:only-of-type {\n",
              "        vertical-align: middle;\n",
              "    }\n",
              "\n",
              "    .dataframe tbody tr th {\n",
              "        vertical-align: top;\n",
              "    }\n",
              "\n",
              "    .dataframe thead th {\n",
              "        text-align: right;\n",
              "    }\n",
              "</style>\n",
              "<table border=\"1\" class=\"dataframe\">\n",
              "  <thead>\n",
              "    <tr style=\"text-align: right;\">\n",
              "      <th></th>\n",
              "      <th>Sentiment</th>\n",
              "      <th>SentimentText</th>\n",
              "    </tr>\n",
              "  </thead>\n",
              "  <tbody>\n",
              "    <tr>\n",
              "      <th>1063064</th>\n",
              "      <td>0</td>\n",
              "      <td>miss my cous.... kiara</td>\n",
              "    </tr>\n",
              "    <tr>\n",
              "      <th>558497</th>\n",
              "      <td>0</td>\n",
              "      <td>after Pak, now WI are in semis too...what a sh...</td>\n",
              "    </tr>\n",
              "    <tr>\n",
              "      <th>1202917</th>\n",
              "      <td>1</td>\n",
              "      <td>@sammlessthan3 good night</td>\n",
              "    </tr>\n",
              "    <tr>\n",
              "      <th>1404830</th>\n",
              "      <td>1</td>\n",
              "      <td>frolicking among a group of recently discovere...</td>\n",
              "    </tr>\n",
              "    <tr>\n",
              "      <th>373266</th>\n",
              "      <td>1</td>\n",
              "      <td>@philritchie Boom, and if you will, boom! Saw ...</td>\n",
              "    </tr>\n",
              "  </tbody>\n",
              "</table>\n",
              "</div>"
            ],
            "text/plain": [
              "         Sentiment                                      SentimentText\n",
              "1063064          0                            miss my cous.... kiara \n",
              "558497           0  after Pak, now WI are in semis too...what a sh...\n",
              "1202917          1                         @sammlessthan3 good night \n",
              "1404830          1  frolicking among a group of recently discovere...\n",
              "373266           1  @philritchie Boom, and if you will, boom! Saw ..."
            ]
          },
          "metadata": {
            "tags": []
          },
          "execution_count": 8
        }
      ]
    },
    {
      "cell_type": "code",
      "metadata": {
        "colab": {
          "base_uri": "https://localhost:8080/"
        },
        "id": "W2aChNQYc7c3",
        "outputId": "76ab7c56-5ff2-4616-f066-401d76968b4c"
      },
      "source": [
        "# checking for any null values\n",
        "tweets_df.isnull().sum()"
      ],
      "execution_count": null,
      "outputs": [
        {
          "output_type": "execute_result",
          "data": {
            "text/plain": [
              "Sentiment        0\n",
              "SentimentText    0\n",
              "dtype: int64"
            ]
          },
          "metadata": {
            "tags": []
          },
          "execution_count": 9
        }
      ]
    },
    {
      "cell_type": "code",
      "metadata": {
        "colab": {
          "base_uri": "https://localhost:8080/"
        },
        "id": "KU4Ssu9tdoKA",
        "outputId": "17f2be42-497f-4a8c-87ea-a2d90f97b975"
      },
      "source": [
        "# number of sentiment classes\n",
        "tweets_df.Sentiment.unique()"
      ],
      "execution_count": null,
      "outputs": [
        {
          "output_type": "execute_result",
          "data": {
            "text/plain": [
              "array([0, 1])"
            ]
          },
          "metadata": {
            "tags": []
          },
          "execution_count": 10
        }
      ]
    },
    {
      "cell_type": "code",
      "metadata": {
        "colab": {
          "base_uri": "https://localhost:8080/",
          "height": 279
        },
        "id": "cHj56RkWdCy_",
        "outputId": "ef361422-0b21-43fc-da28-69c1d1e00f62"
      },
      "source": [
        "# target distribution - number of positive and negative tweets\n",
        "tweets_df.Sentiment.value_counts().plot(kind = 'bar')"
      ],
      "execution_count": null,
      "outputs": [
        {
          "output_type": "execute_result",
          "data": {
            "text/plain": [
              "<matplotlib.axes._subplots.AxesSubplot at 0x7f4bedaa3050>"
            ]
          },
          "metadata": {
            "tags": []
          },
          "execution_count": 11
        },
        {
          "output_type": "display_data",
          "data": {
            "image/png": "[encoded data removed]",
            "text/plain": [
              "<Figure size 432x288 with 1 Axes>"
            ]
          },
          "metadata": {
            "tags": [],
            "needs_background": "light"
          }
        }
      ]
    },
    {
      "cell_type": "markdown",
      "metadata": {
        "id": "HoIOUvvQdUGi"
      },
      "source": [
        "We have almost equal examples of positive and negative sentiment tweets.  \n",
        "- 0: Postitive, 1: Negative"
      ]
    },
    {
      "cell_type": "markdown",
      "metadata": {
        "id": "bsFihrend0ZG"
      },
      "source": [
        "**Splitting the data into train and test sets**"
      ]
    },
    {
      "cell_type": "code",
      "metadata": {
        "id": "4xalmpiKdPNX"
      },
      "source": [
        "from sklearn.model_selection import train_test_split\n",
        "\n",
        "train, test = train_test_split(tweets_df, test_size = 0.3, random_state = 2)"
      ],
      "execution_count": null,
      "outputs": []
    },
    {
      "cell_type": "code",
      "metadata": {
        "colab": {
          "base_uri": "https://localhost:8080/"
        },
        "id": "wYrgmEJGemoG",
        "outputId": "f99c75da-6453-4f92-a904-7d143909fb5e"
      },
      "source": [
        "print(train.shape)\n",
        "print(test.shape)"
      ],
      "execution_count": null,
      "outputs": [
        {
          "output_type": "stream",
          "text": [
            "(350000, 2)\n",
            "(150000, 2)\n"
          ],
          "name": "stdout"
        }
      ]
    },
    {
      "cell_type": "code",
      "metadata": {
        "id": "zC_dZdVFp6aY"
      },
      "source": [
        "!mkdir 'datasets'"
      ],
      "execution_count": null,
      "outputs": []
    },
    {
      "cell_type": "code",
      "metadata": {
        "id": "tzk0Fpd7pfv3"
      },
      "source": [
        "# save the train and test data\n",
        "train.to_csv('datasets/train_tweets.csv', index=False)\n",
        "test.to_csv('datasets/test_tweets.csv', index = False)"
      ],
      "execution_count": null,
      "outputs": []
    },
    {
      "cell_type": "code",
      "metadata": {
        "id": "eDU8a3juVRFn"
      },
      "source": [
        "tweets_df.to_csv(\"datasets/tweets.csv\", index=False)"
      ],
      "execution_count": null,
      "outputs": []
    },
    {
      "cell_type": "markdown",
      "metadata": {
        "id": "KJ8DLJU_frdz"
      },
      "source": [
        "### Data Processing"
      ]
    },
    {
      "cell_type": "markdown",
      "metadata": {
        "id": "C4U71tlGfwJM"
      },
      "source": [
        "**Clean the text**\n",
        "- Removing URLs and and keeping only letters and numbers"
      ]
    },
    {
      "cell_type": "code",
      "metadata": {
        "id": "xUX8Qn_4esz7"
      },
      "source": [
        "# function to clean text\n",
        "def tweet_clean(text):\n",
        "  text = re.sub(r'[^A-Za-z0-9]+', ' ', text)\n",
        "  text = re.sub(r'https?:/\\/\\S+', ' ', text)\n",
        "  return text.strip()"
      ],
      "execution_count": null,
      "outputs": []
    },
    {
      "cell_type": "code",
      "metadata": {
        "id": "MbXogd9zglbK"
      },
      "source": [
        "# tokenizing the text with spacy\n",
        "nlp = spacy.load('en', disable = ['parser', 'tagger','ner'])\n",
        "\n",
        "def tokenizer(sent):\n",
        "  return [w.text.lower() for w in nlp(tweet_clean(sent))]"
      ],
      "execution_count": null,
      "outputs": []
    },
    {
      "cell_type": "code",
      "metadata": {
        "id": "AQZf4JyPhNFs"
      },
      "source": [
        ""
      ],
      "execution_count": null,
      "outputs": []
    },
    {
      "cell_type": "code",
      "metadata": {
        "id": "qAsjTMQjiINa"
      },
      "source": [
        "TEXT = torchtext.legacy.data.Field(tokenize=tokenizer, include_lengths=True, batch_first=True)\n",
        "LABEL = torchtext.legacy.data.LabelField(dtype = torch.float, batch_first=True) "
      ],
      "execution_count": null,
      "outputs": []
    },
    {
      "cell_type": "code",
      "metadata": {
        "id": "xiEQWGlXWMOy"
      },
      "source": [
        ""
      ],
      "execution_count": null,
      "outputs": []
    },
    {
      "cell_type": "markdown",
      "metadata": {
        "id": "fQ3u7sQVh99j"
      },
      "source": [
        "**Setting torch Text Fields to process the input data**"
      ]
    },
    {
      "cell_type": "code",
      "metadata": {
        "id": "ziwwFqmgjqWo"
      },
      "source": [
        "# setting the mappings for the fields\n",
        "datafields = [('Sentiment', LABEL), ('SentimentText', TEXT)]"
      ],
      "execution_count": null,
      "outputs": []
    },
    {
      "cell_type": "code",
      "metadata": {
        "id": "W2AS3pA-pYRB"
      },
      "source": [
        "# read the data\n",
        "trn, tst = torchtext.legacy.data.TabularDataset.splits(path='datasets/',\n",
        "                                                       train = 'train_tweets.csv',\n",
        "                                                       test = 'test_tweets.csv',\n",
        "                                                       format = 'csv',\n",
        "                                                       skip_header =True,\n",
        "                                                       fields = datafields)"
      ],
      "execution_count": null,
      "outputs": []
    },
    {
      "cell_type": "code",
      "metadata": {
        "id": "HUhUh8roWZRM"
      },
      "source": [
        "# create the data\n",
        "dataset = torchtext.legacy.data.TabularDataset(path='datasets/tweets.csv', \n",
        "                                                format='csv', \n",
        "                                                fields = datafields,\n",
        "                                                skip_header=True\n",
        "                                                )"
      ],
      "execution_count": null,
      "outputs": []
    },
    {
      "cell_type": "code",
      "metadata": {
        "id": "hT1w41nLXHun"
      },
      "source": [
        "# split the dataset into train and test sets\n",
        "import random\n",
        "trn, tst = dataset.split(split_ratio=0.7, random_state=random.seed(1))"
      ],
      "execution_count": null,
      "outputs": []
    },
    {
      "cell_type": "code",
      "metadata": {
        "colab": {
          "base_uri": "https://localhost:8080/"
        },
        "id": "up0knalmqrW-",
        "outputId": "d5ccacb9-e87d-4328-ad9c-ba487fbc0ac1"
      },
      "source": [
        "print(f'Number of training examples: {len(trn)}')\n",
        "print(f'Number of training examples: {len(tst)}')"
      ],
      "execution_count": null,
      "outputs": [
        {
          "output_type": "stream",
          "text": [
            "Number of training examples: 350000\n",
            "Number of training examples: 150000\n"
          ],
          "name": "stdout"
        }
      ]
    },
    {
      "cell_type": "code",
      "metadata": {
        "colab": {
          "base_uri": "https://localhost:8080/"
        },
        "id": "IvKxrW2Mq40V",
        "outputId": "5e328f54-8dd1-4636-9d1b-59b2b0a61fa8"
      },
      "source": [
        "# a single train example\n",
        "print(vars(trn.examples[2]))"
      ],
      "execution_count": null,
      "outputs": [
        {
          "output_type": "stream",
          "text": [
            "{'Sentiment': '0', 'SentimentText': ['aeongotbeats', 'dang', 'parkview', 'dunno', 'if', 'i', 'got', 'my', 'twitter', 'syntax', 'straight']}\n"
          ],
          "name": "stdout"
        }
      ]
    },
    {
      "cell_type": "markdown",
      "metadata": {
        "id": "MNncBn9Srj0B"
      },
      "source": [
        "**Load pretrained Glove Embeddings**  \n",
        "\n",
        "Building text vocabulary using glove vectors"
      ]
    },
    {
      "cell_type": "code",
      "metadata": {
        "colab": {
          "base_uri": "https://localhost:8080/"
        },
        "id": "H2Pawwh7rEMS",
        "outputId": "911851c5-3ae0-4a83-9c9a-dba9b607e2c2"
      },
      "source": [
        "# initialize glove embeddings\n",
        "TEXT.build_vocab(trn, min_freq = 5,\n",
        "                 vectors = \"glove.6B.300d\", \n",
        "                 unk_init = torch.Tensor.normal_)\n",
        "\n",
        "LABEL.build_vocab(trn)"
      ],
      "execution_count": null,
      "outputs": [
        {
          "output_type": "stream",
          "text": [
            ".vector_cache/glove.6B.zip: 862MB [02:41, 5.35MB/s]                           \n",
            "100%|█████████▉| 398965/400000 [00:37<00:00, 10633.78it/s]"
          ],
          "name": "stderr"
        }
      ]
    },
    {
      "cell_type": "code",
      "metadata": {
        "colab": {
          "base_uri": "https://localhost:8080/"
        },
        "id": "OGiKQ0SvsDWN",
        "outputId": "6efe6fe2-9216-4f20-a41d-198b1485b97a"
      },
      "source": [
        "#No. of unique tokens in text\n",
        "print(\"Size of TEXT vocabulary:\",len(TEXT.vocab))\n",
        "\n",
        "#No. of unique tokens in label\n",
        "print(\"Size of LABEL vocabulary:\",len(LABEL.vocab))"
      ],
      "execution_count": null,
      "outputs": [
        {
          "output_type": "stream",
          "text": [
            "Size of TEXT vocabulary: 26172\n",
            "Size of LABEL vocabulary: 2\n"
          ],
          "name": "stdout"
        }
      ]
    },
    {
      "cell_type": "code",
      "metadata": {
        "colab": {
          "base_uri": "https://localhost:8080/"
        },
        "id": "oDcB3bTEssPa",
        "outputId": "cf3889df-511e-49db-ec34-fcdf21eadead"
      },
      "source": [
        "# most common words\n",
        "print(TEXT.vocab.freqs.most_common(25))"
      ],
      "execution_count": null,
      "outputs": [
        {
          "output_type": "stream",
          "text": [
            "[('i', 224436), ('to', 124925), ('the', 115846), ('a', 85195), ('my', 69973), ('it', 67488), ('and', 67275), ('you', 67061), ('is', 52783), ('in', 47923), ('for', 47810), ('s', 46209), ('m', 42561), ('t', 40648), ('of', 40633), ('that', 38807), ('on', 36972), ('me', 36774), ('so', 33928), ('have', 32715), ('but', 29702), ('just', 28159), ('with', 25452), ('be', 25127), ('at', 24552)]\n"
          ],
          "name": "stdout"
        }
      ]
    },
    {
      "cell_type": "code",
      "metadata": {
        "colab": {
          "base_uri": "https://localhost:8080/"
        },
        "id": "vzMYihcWtFUf",
        "outputId": "45244ff9-6cc3-41fa-8df3-8ff622829c09"
      },
      "source": [
        "print(TEXT.vocab.itos[:10])"
      ],
      "execution_count": null,
      "outputs": [
        {
          "output_type": "stream",
          "text": [
            "['<unk>', '<pad>', 'i', 'to', 'the', 'a', 'my', 'it', 'and', 'you']\n"
          ],
          "name": "stdout"
        }
      ]
    },
    {
      "cell_type": "code",
      "metadata": {
        "id": "7fwgyc1yabxv"
      },
      "source": [
        ""
      ],
      "execution_count": null,
      "outputs": []
    },
    {
      "cell_type": "code",
      "metadata": {
        "colab": {
          "base_uri": "https://localhost:8080/"
        },
        "id": "Fli0Z5Tzakbt",
        "outputId": "dca2cbe0-2915-49c3-db6d-5c306e67e0b3"
      },
      "source": [
        "# push the embeddings to the device\n",
        "device = torch.device('cuda' if torch.cuda.is_available() else 'cpu')  \n",
        "print(device)\n",
        "\n",
        "embeddings = TEXT.vocab.vectors.to(device)"
      ],
      "execution_count": null,
      "outputs": [
        {
          "output_type": "stream",
          "text": [
            "cuda\n"
          ],
          "name": "stdout"
        }
      ]
    },
    {
      "cell_type": "code",
      "metadata": {
        "id": "0Ju2152wabuH"
      },
      "source": [
        ""
      ],
      "execution_count": null,
      "outputs": []
    },
    {
      "cell_type": "markdown",
      "metadata": {
        "id": "w4uZcHIft5xt"
      },
      "source": [
        "**Creating Data itearators**"
      ]
    },
    {
      "cell_type": "code",
      "metadata": {
        "id": "SupcSjPQtkix"
      },
      "source": [
        "BATCH_SIZE = 64\n",
        "train_iterator, test_iterator = torchtext.legacy.data.BucketIterator.splits(\n",
        "    (trn, tst),\n",
        "    batch_size = BATCH_SIZE,\n",
        "    sort_key = lambda x: len(x.SentimentText),\n",
        "    sort_within_batch = True,\n",
        "    device = device\n",
        ")"
      ],
      "execution_count": null,
      "outputs": []
    },
    {
      "cell_type": "markdown",
      "metadata": {
        "id": "dxRbzzg4vLE6"
      },
      "source": [
        "### MODEL"
      ]
    },
    {
      "cell_type": "code",
      "metadata": {
        "id": "N4zgCBgVvHTY"
      },
      "source": [
        "# defining the model architecture\n",
        "\n",
        "class RNN(nn.Module):\n",
        "  def __init__(self, vocab_size, embedding_dim, hidden_dim, output_dim,\n",
        "             n_layers, bidrectional, dropout, embedding_weights):\n",
        "    super().__init__()\n",
        "\n",
        "    # embedding layer\n",
        "    #self.embedding = nn.Embedding(vocab_size, embedding_dim)\n",
        "    self.embedding = nn.Embedding.from_pretrained(embeddings=embedding_weights)\n",
        "\n",
        "    #rnn layer\n",
        "    self.lstm = nn.LSTM(embedding_dim, hidden_size = hidden_dim, num_layers = n_layers,\n",
        "                      bidirectional = bidirectional, dropout = dropout, batch_first = True)\n",
        "    \n",
        "    # dense layer\n",
        "    self.fc = nn.Linear(hidden_dim*2, output_dim)\n",
        "\n",
        "    # dropout\n",
        "    self.dropout = nn.Dropout(dropout)\n",
        "\n",
        "    # sigmoid activation\n",
        "    self.sig = nn.Sigmoid()\n",
        "\n",
        "  def forward(self, text, text_length):\n",
        "      embedded = self.embedding(text)\n",
        "\n",
        "      #output, hidden = self.rnn(embedded)\n",
        "      packed_embedded = nn.utils.rnn.pack_padded_sequence(embedded, text_length.cpu(),\n",
        "                                                          batch_first=True)\n",
        "      packed_outputs, (hidden,cell) = self.lstm(packed_embedded)\n",
        "\n",
        "      # concat the final forward and backward hidden state\n",
        "      hidden = torch.cat((hidden[-2,:,:], hidden[-1,:,:]), dim = 1)\n",
        "\n",
        "      # dropuout\n",
        "      hidden = self.dropout(hidden)\n",
        "\n",
        "      # dense output\n",
        "      dense_ouput = self.fc(hidden)\n",
        "\n",
        "      return self.sig(dense_ouput)\n"
      ],
      "execution_count": null,
      "outputs": []
    },
    {
      "cell_type": "markdown",
      "metadata": {
        "id": "cIM5mG1103iA"
      },
      "source": [
        "**Hyperparameters**"
      ]
    },
    {
      "cell_type": "code",
      "metadata": {
        "id": "XXNGNKJxvUla"
      },
      "source": [
        "input_dim = len(TEXT.vocab)\n",
        "embedding_dim = 300\n",
        "embedding_weights = embeddings\n",
        "\n",
        "hidden_dim = 20\n",
        "output_dim = 1\n",
        "\n",
        "n_layers = 2\n",
        "bidirectional = True\n",
        "dropout = 0.4"
      ],
      "execution_count": null,
      "outputs": []
    },
    {
      "cell_type": "code",
      "metadata": {
        "colab": {
          "base_uri": "https://localhost:8080/"
        },
        "id": "Kpmjrzsp1PWy",
        "outputId": "d6b79c0c-8f80-4c8f-e3cd-0b66776185b5"
      },
      "source": [
        "#intiantiate the model\n",
        "model = RNN(input_dim, embedding_dim,\n",
        "            hidden_dim, output_dim,\n",
        "            n_layers, bidirectional, dropout, embedding_weights)\n",
        "model"
      ],
      "execution_count": null,
      "outputs": [
        {
          "output_type": "execute_result",
          "data": {
            "text/plain": [
              "RNN(\n",
              "  (embedding): Embedding(26172, 300)\n",
              "  (lstm): LSTM(300, 20, num_layers=2, batch_first=True, dropout=0.4, bidirectional=True)\n",
              "  (fc): Linear(in_features=40, out_features=1, bias=True)\n",
              "  (dropout): Dropout(p=0.4, inplace=False)\n",
              "  (sig): Sigmoid()\n",
              ")"
            ]
          },
          "metadata": {
            "tags": []
          },
          "execution_count": 118
        }
      ]
    },
    {
      "cell_type": "code",
      "metadata": {
        "id": "pvGdDKsm3wfX"
      },
      "source": [
        ""
      ],
      "execution_count": null,
      "outputs": []
    },
    {
      "cell_type": "markdown",
      "metadata": {
        "id": "wIoSHzhS36Zn"
      },
      "source": [
        "**Model Training**"
      ]
    },
    {
      "cell_type": "code",
      "metadata": {
        "id": "ZPdyy3cR3_EG"
      },
      "source": [
        "# loss and optimizer\n",
        "from torch.optim import Adam\n",
        "\n",
        "optimizer = Adam(model.parameters(), lr = 0.0003)\n",
        "criterion = nn.BCELoss()"
      ],
      "execution_count": null,
      "outputs": []
    },
    {
      "cell_type": "code",
      "metadata": {
        "colab": {
          "base_uri": "https://localhost:8080/"
        },
        "id": "S19YRQs84i4T",
        "outputId": "c950a4d5-7fc6-4726-f03f-0eda16674266"
      },
      "source": [
        "# push the model to the device\n",
        "model.to(device)"
      ],
      "execution_count": null,
      "outputs": [
        {
          "output_type": "execute_result",
          "data": {
            "text/plain": [
              "RNN(\n",
              "  (embedding): Embedding(26172, 300)\n",
              "  (lstm): LSTM(300, 20, num_layers=2, batch_first=True, dropout=0.4, bidirectional=True)\n",
              "  (fc): Linear(in_features=40, out_features=1, bias=True)\n",
              "  (dropout): Dropout(p=0.4, inplace=False)\n",
              "  (sig): Sigmoid()\n",
              ")"
            ]
          },
          "metadata": {
            "tags": []
          },
          "execution_count": 121
        }
      ]
    },
    {
      "cell_type": "code",
      "metadata": {
        "id": "K239XIVL4oPN"
      },
      "source": [
        "# training loop\n",
        "def train(model, iterator, optimizer, criterion):\n",
        "\n",
        "  epoch_loss = 0.0\n",
        "  epoch_acc = 0.0 \n",
        "\n",
        "  model.train()\n",
        "\n",
        "  for batch in iterator:\n",
        "\n",
        "    (text, text_length), labels = batch.SentimentText, batch.Sentiment\n",
        "\n",
        "    #text = batch.SentimentText.to(device)\n",
        "    #labels = batch.Sentiment.to(device)\n",
        "    optimizer.zero_grad()\n",
        "\n",
        "    predictions  = model(text, text_length).squeeze()\n",
        "    loss = criterion(predictions, labels)\n",
        "\n",
        "    rounded_preds = torch.round(predictions)\n",
        "    correct = (rounded_preds == labels).float()\n",
        "\n",
        "    acc = correct.sum()/len(correct)\n",
        "\n",
        "    loss.backward()\n",
        "    optimizer.step()\n",
        "\n",
        "    epoch_loss += loss.item()\n",
        "    epoch_acc += acc.item()\n",
        "\n",
        "  return epoch_loss/len(iterator), epoch_acc/len(iterator)"
      ],
      "execution_count": null,
      "outputs": []
    },
    {
      "cell_type": "code",
      "metadata": {
        "id": "DYG0hueIGgHI"
      },
      "source": [
        "# evaluation on test data\n",
        "def evaluate(model, iterator, criterion):\n",
        "\n",
        "  epoch_loss = 0.0\n",
        "  epoch_acc = 0.0\n",
        "\n",
        "  model.eval()\n",
        "\n",
        "  with torch.no_grad():\n",
        "\n",
        "    for batch in iterator:\n",
        "\n",
        "      #text = batch.SentimentText.to(device)\n",
        "      #labels = batch.Sentiment.to(device)\n",
        "\n",
        "      (text, text_length), labels = batch.SentimentText, batch.Sentiment\n",
        "\n",
        "      predictions  = model(text, text_length).squeeze()\n",
        "      loss = criterion(predictions, labels)\n",
        "\n",
        "      rounded_preds = torch.round(predictions)\n",
        "      correct = (rounded_preds == labels).float()\n",
        "\n",
        "      acc = correct.sum()/len(correct)\n",
        "\n",
        "      epoch_loss += loss.item()\n",
        "      epoch_acc += acc.item()\n",
        "\n",
        "  test_loss = epoch_loss/len(test_iterator)\n",
        "  test_acc =  epoch_acc/len(test_iterator)\n",
        "\n",
        "  return test_loss, test_acc"
      ],
      "execution_count": null,
      "outputs": []
    },
    {
      "cell_type": "code",
      "metadata": {
        "colab": {
          "base_uri": "https://localhost:8080/"
        },
        "id": "cFEHhQcJ4rh_",
        "outputId": "d291a800-d170-4379-d783-1174cb44a06c"
      },
      "source": [
        "# training the model\n",
        "epochs = 10\n",
        "best_test_loss = float('inf')\n",
        "train_loss_epoch, train_acc_epoch = [], []\n",
        "test_loss_epoch, test_acc_epoch = [], []\n",
        "\n",
        "for epoch in range(epochs):\n",
        "  train_loss, train_acc = train(model, iterator=train_iterator, optimizer=optimizer, criterion=criterion)\n",
        "  test_loss, test_acc = evaluate(model, iterator=test_iterator, criterion=criterion)\n",
        "\n",
        "   #save the best model for best test loss\n",
        "  if test_loss < best_test_loss:\n",
        "      best_test_loss = test_loss\n",
        "      torch.save(model.state_dict(), 'saved_weights.pt')\n",
        "      print(\"Saving best Model...\")\n",
        "\n",
        "  train_loss_epoch.append(train_loss); train_acc_epoch.append(train_acc)\n",
        "  test_loss_epoch.append(test_loss); test_acc_epoch.append(test_acc)\n",
        "\n",
        "  print(f'Epoch: {epoch+1}/{epochs}  | Train Loss: {train_loss: .3f} | Train Acc: {train_acc: .3f} | Test Loss:{test_loss:.3f} | Test Acc:{test_acc}')"
      ],
      "execution_count": null,
      "outputs": [
        {
          "output_type": "stream",
          "text": [
            "Saving best Model...\n",
            "Epoch: 1/10  | Train Loss:  0.512 | Train Acc:  0.747 | Test Loss:0.467 | Test Acc:0.7816344034498869\n",
            "Saving best Model...\n",
            "Epoch: 2/10  | Train Loss:  0.459 | Train Acc:  0.784 | Test Loss:0.445 | Test Acc:0.7910511767803199\n",
            "Saving best Model...\n",
            "Epoch: 3/10  | Train Loss:  0.441 | Train Acc:  0.796 | Test Loss:0.438 | Test Acc:0.7942352815699659\n",
            "Saving best Model...\n",
            "Epoch: 4/10  | Train Loss:  0.428 | Train Acc:  0.803 | Test Loss:0.426 | Test Acc:0.8033631968315144\n",
            "Saving best Model...\n",
            "Epoch: 5/10  | Train Loss:  0.419 | Train Acc:  0.808 | Test Loss:0.421 | Test Acc:0.8063762087769069\n",
            "Epoch: 6/10  | Train Loss:  0.412 | Train Acc:  0.813 | Test Loss:0.423 | Test Acc:0.8054851926990336\n",
            "Saving best Model...\n",
            "Epoch: 7/10  | Train Loss:  0.405 | Train Acc:  0.816 | Test Loss:0.417 | Test Acc:0.8080804714163823\n",
            "Saving best Model...\n",
            "Epoch: 8/10  | Train Loss:  0.400 | Train Acc:  0.819 | Test Loss:0.415 | Test Acc:0.8100758141523335\n",
            "Saving best Model...\n",
            "Epoch: 9/10  | Train Loss:  0.396 | Train Acc:  0.822 | Test Loss:0.412 | Test Acc:0.8115778761461326\n",
            "Epoch: 10/10  | Train Loss:  0.392 | Train Acc:  0.824 | Test Loss:0.417 | Test Acc:0.8080760274629137\n"
          ],
          "name": "stdout"
        }
      ]
    },
    {
      "cell_type": "code",
      "metadata": {
        "colab": {
          "base_uri": "https://localhost:8080/",
          "height": 350
        },
        "id": "2Sa2sQx1FK9G",
        "outputId": "243a7fd8-7aac-46d4-a803-64863117c0fe"
      },
      "source": [
        "# plotting the performance curve\n",
        "Epochs = range(1,11)\n",
        "plt.figure(figsize=(12,5))\n",
        "\n",
        "# loss\n",
        "plt.subplot(1,2,1)\n",
        "plt.plot(Epochs, train_loss_epoch, label = \"Train\")\n",
        "plt.plot(Epochs, test_loss_epoch, label = \"Test\")\n",
        "plt.title(\"Loss\")\n",
        "plt.xlabel(\"Epochs\")\n",
        "plt.legend()\n",
        "\n",
        "# Accuracy\n",
        "plt.subplot(1,2,2)\n",
        "plt.plot(Epochs, train_acc_epoch, label = \"Train\")\n",
        "plt.plot(Epochs, test_acc_epoch, label = \"Test\")\n",
        "plt.title(\"Accuracy\")\n",
        "plt.xlabel(\"Epochs\")\n",
        "plt.legend()\n",
        "\n",
        "plt.show()"
      ],
      "execution_count": null,
      "outputs": [
        {
          "output_type": "display_data",
          "data": {
            "image/png": "[encoded data removed]",
            "text/plain": [
              "<Figure size 864x360 with 2 Axes>"
            ]
          },
          "metadata": {
            "tags": [],
            "needs_background": "light"
          }
        }
      ]
    },
    {
      "cell_type": "code",
      "metadata": {
        "id": "o1wo42UOvdx1"
      },
      "source": [
        ""
      ],
      "execution_count": null,
      "outputs": []
    },
    {
      "cell_type": "markdown",
      "metadata": {
        "id": "ZUDdr8bhvk5S"
      },
      "source": [
        "**Confusion Matrix**"
      ]
    },
    {
      "cell_type": "code",
      "metadata": {
        "colab": {
          "base_uri": "https://localhost:8080/"
        },
        "id": "JlmnmTlZvdu1",
        "outputId": "b89943fd-7f1a-42bc-8e3e-f3b81dc6685b"
      },
      "source": [
        "#load weights\n",
        "path='/content/saved_weights.pt'\n",
        "model = RNN(input_dim, embedding_dim,\n",
        "            hidden_dim, output_dim,\n",
        "            n_layers, bidirectional, dropout, embedding_weights)\n",
        "model.load_state_dict(torch.load(path));\n",
        "model.to(device)"
      ],
      "execution_count": null,
      "outputs": [
        {
          "output_type": "execute_result",
          "data": {
            "text/plain": [
              "RNN(\n",
              "  (embedding): Embedding(26172, 300)\n",
              "  (lstm): LSTM(300, 20, num_layers=2, batch_first=True, dropout=0.4, bidirectional=True)\n",
              "  (fc): Linear(in_features=40, out_features=1, bias=True)\n",
              "  (dropout): Dropout(p=0.4, inplace=False)\n",
              "  (sig): Sigmoid()\n",
              ")"
            ]
          },
          "metadata": {
            "tags": []
          },
          "execution_count": 137
        }
      ]
    },
    {
      "cell_type": "code",
      "metadata": {
        "id": "wgSVdbcuvdrf"
      },
      "source": [
        "# get the predictions for the test data\n",
        "actual = []\n",
        "predicted = []\n",
        "\n",
        "model.eval()\n",
        "with torch.no_grad():\n",
        "\n",
        "    for batch in test_iterator:\n",
        "\n",
        "      (text, text_length), labels = batch.SentimentText, batch.Sentiment\n",
        "\n",
        "      predictions  = model(text, text_length).squeeze()\n",
        "    \n",
        "      rounded_preds = torch.round(predictions).tolist()\n",
        "      \n",
        "      actual.extend(labels.tolist())\n",
        "      predicted.extend(rounded_preds)"
      ],
      "execution_count": null,
      "outputs": []
    },
    {
      "cell_type": "code",
      "metadata": {
        "colab": {
          "base_uri": "https://localhost:8080/",
          "height": 284
        },
        "id": "mdH7pZUzw2mZ",
        "outputId": "bee6e374-81da-44ee-82f6-7f4d31194519"
      },
      "source": [
        "from sklearn.metrics import confusion_matrix\n",
        "conf_mat = confusion_matrix(actual, predicted)\n",
        "sns.heatmap(conf_mat, annot=True, fmt='.6g', cbar=False, cmap='Blues')\n",
        "plt.xlabel('Predicted', size = 15)\n",
        "plt.ylabel('Actual', size = 15)\n",
        "plt.show()"
      ],
      "execution_count": null,
      "outputs": [
        {
          "output_type": "display_data",
          "data": {
            "image/png": "[encoded data removed]",
            "text/plain": [
              "<Figure size 432x288 with 1 Axes>"
            ]
          },
          "metadata": {
            "tags": [],
            "needs_background": "light"
          }
        }
      ]
    },
    {
      "cell_type": "code",
      "metadata": {
        "id": "jGkeyEqQw2jF"
      },
      "source": [
        ""
      ],
      "execution_count": null,
      "outputs": []
    },
    {
      "cell_type": "markdown",
      "metadata": {
        "id": "xL1o1k5FR_XD"
      },
      "source": [
        "**Inference on a single tweet**"
      ]
    },
    {
      "cell_type": "code",
      "metadata": {
        "id": "KutjrTRUytpS"
      },
      "source": [
        "# making inference on cpu\n",
        "path='/content/saved_weights.pt'\n",
        "model = RNN(input_dim, embedding_dim,\n",
        "            hidden_dim, output_dim,\n",
        "            n_layers, bidirectional, dropout, embedding_weights)\n",
        "model.load_state_dict(torch.load(path));"
      ],
      "execution_count": null,
      "outputs": []
    },
    {
      "cell_type": "code",
      "metadata": {
        "colab": {
          "base_uri": "https://localhost:8080/"
        },
        "id": "qYVr1lTVy6Gi",
        "outputId": "6cf6c0d9-3425-492f-df86-54e373acba75"
      },
      "source": [
        "model.cpu()"
      ],
      "execution_count": null,
      "outputs": [
        {
          "output_type": "execute_result",
          "data": {
            "text/plain": [
              "RNN(\n",
              "  (embedding): Embedding(26172, 300)\n",
              "  (lstm): LSTM(300, 20, num_layers=2, batch_first=True, dropout=0.4, bidirectional=True)\n",
              "  (fc): Linear(in_features=40, out_features=1, bias=True)\n",
              "  (dropout): Dropout(p=0.4, inplace=False)\n",
              "  (sig): Sigmoid()\n",
              ")"
            ]
          },
          "metadata": {
            "tags": []
          },
          "execution_count": 158
        }
      ]
    },
    {
      "cell_type": "code",
      "metadata": {
        "id": "BoVxvwNlM4L7"
      },
      "source": [
        "#inference \n",
        "import spacy\n",
        "nlp = spacy.load('en')\n",
        "\n",
        "def predict(model, sentence):\n",
        "    tokenized = tokenizer(tweet_clean(sentence))               #tokenize the sentence\n",
        "    indexed = [TEXT.vocab.stoi[t] for t in tokenized]          #convert to integer sequence\n",
        "    tensor = torch.LongTensor(indexed)                         #convert to tensor\n",
        "    length = [len(indexed)]                                    #compute no. of words\n",
        "    length_tensor = torch.LongTensor(length)                   #convert to tensor\n",
        "    tensor = tensor.unsqueeze(1).T                             #reshape in form of batch,no. of words\n",
        "    prediction = model(tensor, length_tensor)                  #prediction \n",
        "    if np.round(prediction.item()) == 1:\n",
        "      label = \"Negative\"\n",
        "    else:\n",
        "      label = \"Positive\"\n",
        "    return prediction.item(), label    "
      ],
      "execution_count": null,
      "outputs": []
    },
    {
      "cell_type": "code",
      "metadata": {
        "colab": {
          "base_uri": "https://localhost:8080/",
          "height": 35
        },
        "id": "kRg1NdQzNXwk",
        "outputId": "abac8adb-3cff-4258-b4f1-4ad360c8501a"
      },
      "source": [
        "# positive tweet\n",
        "tweet = data[data.Sentiment == 1].sample(1)\n",
        "tweet = tweet.SentimentText.iloc[0]\n",
        "tweet"
      ],
      "execution_count": null,
      "outputs": [
        {
          "output_type": "execute_result",
          "data": {
            "application/vnd.google.colaboratory.intrinsic+json": {
              "type": "string"
            },
            "text/plain": [
              "'@mcewenrobbie Oh yes, the post-op stiches are great  ... excuse me I have to go toss up my breakfast now   heal well, think sprint!'"
            ]
          },
          "metadata": {
            "tags": []
          },
          "execution_count": 174
        }
      ]
    },
    {
      "cell_type": "code",
      "metadata": {
        "colab": {
          "base_uri": "https://localhost:8080/"
        },
        "id": "MugEF8kUPmJa",
        "outputId": "1947c7b0-2f9d-44d9-8719-ebb5863e3fcb"
      },
      "source": [
        "prediction, label = predict(model,tweet)\n",
        "print(f'Label: {label}\\t Probability:{prediction:.4f}')"
      ],
      "execution_count": null,
      "outputs": [
        {
          "output_type": "stream",
          "text": [
            "Label: Positive\t Probability:0.3820\n"
          ],
          "name": "stdout"
        }
      ]
    },
    {
      "cell_type": "code",
      "metadata": {
        "colab": {
          "base_uri": "https://localhost:8080/",
          "height": 35
        },
        "id": "pXpLAO9SP__b",
        "outputId": "b41d6d2c-0b8f-4e3d-9a55-2a22abb9183f"
      },
      "source": [
        "# negative tweet\n",
        "tweet = data[data.Sentiment == 0].sample(1)\n",
        "tweet = tweet.SentimentText.iloc[0]\n",
        "tweet"
      ],
      "execution_count": null,
      "outputs": [
        {
          "output_type": "execute_result",
          "data": {
            "application/vnd.google.colaboratory.intrinsic+json": {
              "type": "string"
            },
            "text/plain": [
              "'Aaahh! last.fm down due to temperature problems. What about all my scrobbles?? '"
            ]
          },
          "metadata": {
            "tags": []
          },
          "execution_count": 176
        }
      ]
    },
    {
      "cell_type": "code",
      "metadata": {
        "colab": {
          "base_uri": "https://localhost:8080/"
        },
        "id": "Zs4lY5_bSMoZ",
        "outputId": "4aab021e-4fa8-4d98-89ff-6009949d6cf6"
      },
      "source": [
        "prediction, label = predict(model,tweet)\n",
        "print(f'Label: {label}\\t Probability:{prediction:.4f}')"
      ],
      "execution_count": null,
      "outputs": [
        {
          "output_type": "stream",
          "text": [
            "Label: Negative\t Probability:0.9339\n"
          ],
          "name": "stdout"
        }
      ]
    },
    {
      "cell_type": "code",
      "metadata": {
        "id": "r2IQzhKUeT1O"
      },
      "source": [
        ""
      ],
      "execution_count": null,
      "outputs": []
    }
  ]
}